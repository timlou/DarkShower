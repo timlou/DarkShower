{
 "metadata": {
  "name": "",
  "signature": "sha256:8b0f0a0b2eeb8f079334e3835a1d81c5b9fa0564a701235ac59c9bd260fcb7a6"
 },
 "nbformat": 3,
 "nbformat_minor": 0,
 "worksheets": [
  {
   "cells": [
    {
     "cell_type": "code",
     "collapsed": false,
     "input": [
      "from __future__ import division\n",
      "# import statements\n",
      "import matplotlib.pyplot as plt\n",
      "import pandas as pd\n",
      "import numpy as np\n",
      "\n",
      "# for latex setting\n",
      "from matplotlib import rc\n",
      "\n"
     ],
     "language": "python",
     "metadata": {},
     "outputs": [],
     "prompt_number": 1
    },
    {
     "cell_type": "code",
     "collapsed": false,
     "input": [
      "# open data file\n",
      "input = \"ss.txt\"\n",
      "\n",
      "data = pd.read_csv(input, sep=',',skipinitialspace=True, comment=\"#\") \n",
      "# grab subsets\n",
      "jets = data[ data['type']==1 ]\n"
     ],
     "language": "python",
     "metadata": {},
     "outputs": [],
     "prompt_number": 2
    },
    {
     "cell_type": "code",
     "collapsed": false,
     "input": [
      "#print jets\n",
      "\n",
      "# grab some interesting quantities\n",
      "# for example leading jet jet charge\n",
      "leading_jets = jets[ jets['jet']==1 ]\n",
      "\n",
      "plt.hist(np.asarray(leading_jets['charge']), bins=np.linspace(-1, 1,100))\n",
      "plt.show()"
     ],
     "language": "python",
     "metadata": {},
     "outputs": [],
     "prompt_number": 3
    },
    {
     "cell_type": "code",
     "collapsed": false,
     "input": [],
     "language": "python",
     "metadata": {},
     "outputs": []
    },
    {
     "cell_type": "code",
     "collapsed": false,
     "input": [],
     "language": "python",
     "metadata": {},
     "outputs": []
    }
   ],
   "metadata": {}
  }
 ]
}